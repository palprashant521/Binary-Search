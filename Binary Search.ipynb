{
 "cells": [
  {
   "cell_type": "code",
   "execution_count": 34,
   "id": "c19fb9d3",
   "metadata": {},
   "outputs": [
    {
     "name": "stdout",
     "output_type": "stream",
     "text": [
      "3\n",
      "3\n"
     ]
    }
   ],
   "source": [
    "import random\n",
    "import time\n",
    "\n",
    "def naive_search(l, target):\n",
    "    \n",
    "    for i in range(len(l)):\n",
    "        if l[i]== target:\n",
    "            return i \n",
    "        \n",
    "    return 'sorry! what you searched is not in the list.'\n",
    "\n",
    "\n",
    "\n",
    "def binary_search(l,target, low= None, high= None):\n",
    "    \n",
    "    if low is None:\n",
    "        low = 0\n",
    "        \n",
    "    if high is None:\n",
    "        high = len(l)-1\n",
    "        \n",
    "        if high < low:\n",
    "            return -1\n",
    "    midpoint = (low+high)//2\n",
    "    \n",
    "    if l[midpoint] == target:\n",
    "        return midpoint\n",
    "    \n",
    "    elif target < l[midpoint]:\n",
    "        return binary_search(l, target, low, midpoint-1)\n",
    "    else: \n",
    "        return binary_search(l, target, midpoint+1, high)\n",
    "    \n",
    "    \n",
    "if __name__=='__main__':\n",
    "    l = [1,3,5,10,12]\n",
    "    target = 10\n",
    "    print(naive_search(l, target))\n",
    "    print(binary_search(l, target))"
   ]
  },
  {
   "cell_type": "code",
   "execution_count": 36,
   "id": "c3816a2b",
   "metadata": {},
   "outputs": [],
   "source": [
    "# here we are increasing the number of items to be more than 60k"
   ]
  },
  {
   "cell_type": "code",
   "execution_count": 35,
   "id": "4fc31037",
   "metadata": {},
   "outputs": [
    {
     "name": "stdout",
     "output_type": "stream",
     "text": [
      "NAIVE SEARCH TIME:  0.0007028964757919312 seconds\n",
      "BINARY SEARCH TIME:  1.2792468070983888e-05 seconds\n"
     ]
    }
   ],
   "source": [
    "length = 10000\n",
    "sorted_list = set()\n",
    "while len(sorted_list) < length:\n",
    "    sorted_list.add(random.randint(-3*length, 3*length))\n",
    "    \n",
    "sorted_list = sorted(list(sorted_list))\n",
    "\n",
    "start = time.time()\n",
    "for target in sorted_list:\n",
    "    naive_search(sorted_list, target)\n",
    "end = time.time()\n",
    "print(\"NAIVE SEARCH TIME: \", (end - start)/length, \"seconds\")\n",
    "\n",
    "start = time.time()\n",
    "for target in sorted_list:\n",
    "    binary_search(sorted_list, target)\n",
    "end = time.time()\n",
    "print(\"BINARY SEARCH TIME: \", (end - start)/length, \"seconds\")"
   ]
  },
  {
   "cell_type": "code",
   "execution_count": null,
   "id": "50669117",
   "metadata": {},
   "outputs": [],
   "source": []
  }
 ],
 "metadata": {
  "kernelspec": {
   "display_name": "Python 3",
   "language": "python",
   "name": "python3"
  },
  "language_info": {
   "codemirror_mode": {
    "name": "ipython",
    "version": 3
   },
   "file_extension": ".py",
   "mimetype": "text/x-python",
   "name": "python",
   "nbconvert_exporter": "python",
   "pygments_lexer": "ipython3",
   "version": "3.8.8"
  }
 },
 "nbformat": 4,
 "nbformat_minor": 5
}
